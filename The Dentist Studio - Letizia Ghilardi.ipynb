{
 "cells": [
  {
   "cell_type": "markdown",
   "id": "d24c78c9",
   "metadata": {},
   "source": [
    "# Dentist's Studio"
   ]
  },
  {
   "cell_type": "markdown",
   "id": "ca8da50b",
   "metadata": {},
   "source": [
    "For clarity I decided to divide the notebook into three parts: Patient Management, Appointment Management and Treatment Processing"
   ]
  },
  {
   "cell_type": "markdown",
   "id": "6a01222c",
   "metadata": {},
   "source": [
    "# Patient Management"
   ]
  },
  {
   "cell_type": "markdown",
   "id": "f2b42a19",
   "metadata": {},
   "source": [
    "Create the file patients_dentist.txt"
   ]
  },
  {
   "cell_type": "code",
   "execution_count": 56,
   "id": "7edde00d",
   "metadata": {},
   "outputs": [
    {
     "name": "stdout",
     "output_type": "stream",
     "text": [
      "File is created\n",
      "001, Alessandro, Rossi, 555-9876, No known allergies\n",
      "002, Emily, Bianchi, 555-4321, Allergic to penicillin\n",
      "003, Marco, Moretti, 555-8765, Sensitive to cold beverages\n",
      "004, Olivia, Romano, 555-2109, History of orthodontic treatment\n",
      "005, Giovanni, Conti, 555-6543, No known allergies\n",
      "006, Sophia, De Luca, 555-1098, Afraid of clowns\n",
      "007, Matteo, Esposito, 555-3456, Allergic to latex\n",
      "\n"
     ]
    }
   ],
   "source": [
    "# Define patient data\n",
    "patients_data = [\n",
    "    \"001, Alessandro, Rossi, 555-9876, No known allergies\",\n",
    "    \"002, Emily, Bianchi, 555-4321, Allergic to penicillin\",\n",
    "    \"003, Marco, Moretti, 555-8765, Sensitive to cold beverages\",\n",
    "    \"004, Olivia, Romano, 555-2109, History of orthodontic treatment\",\n",
    "    \"005, Giovanni, Conti, 555-6543, No known allergies\",\n",
    "    \"006, Sophia, De Luca, 555-1098, Afraid of clowns\",\n",
    "    \"007, Matteo, Esposito, 555-3456, Allergic to latex\"\n",
    "]\n",
    "\n",
    "# Define file path, feel free to change it as necessary\n",
    "patients_file_path = 'C:\\\\Users\\\\letiz\\\\OneDrive\\\\Desktop\\\\patients_dentist.txt'\n",
    "\n",
    "# Function to create the file\n",
    "def create_file(file_path, data):\n",
    "    with open(file_path, 'w') as file:\n",
    "        for item in data:\n",
    "            file.write(item + \"\\n\")\n",
    "    print(\"File is created\")\n",
    "    \n",
    "# Function to read the file\n",
    "def read_file(file_path):\n",
    "    with open(file_path, 'r') as file:\n",
    "        for line in file:\n",
    "            print(line.strip())\n",
    "    print()\n",
    "\n",
    "# Create and read the file\n",
    "create_file(patients_file_path, patients_data)\n",
    "read_file(patients_file_path)"
   ]
  },
  {
   "cell_type": "markdown",
   "id": "595cf866",
   "metadata": {},
   "source": [
    "Creating the class Patient and creating its methods"
   ]
  },
  {
   "cell_type": "code",
   "execution_count": 2,
   "id": "73ee81d0",
   "metadata": {},
   "outputs": [],
   "source": [
    "# Create the class Patient as requested\n",
    "class Patient:\n",
    "    def __init__(self, *args):\n",
    "        # Use of *args parameter to allow for a variable number of arguments\n",
    "        self.patient_id, self.first_name, self.last_name, self.contact_details, self.dental_history = args[:5]\n",
    "\n",
    "    def schedule_appointment(self, appointment_id, date, time, treatment_type):\n",
    "        return Appointment(appointment_id, self.patient_id, date, time, treatment_type)\n",
    "\n",
    "    def record_treatment(self, new_treatment):\n",
    "        # Check if the patient already has a dental history\n",
    "        if self.dental_history:\n",
    "            # If yes, append the new treatment to the existing history\n",
    "            self.dental_history = self.dental_history + \", \" + new_treatment\n",
    "        else:\n",
    "            # If no existing history, set the dental history to the new treatment\n",
    "            self.dental_history = new_treatment\n",
    "        print(\"Treatment recorded:\", new_treatment)"
   ]
  },
  {
   "cell_type": "markdown",
   "id": "148a7439",
   "metadata": {},
   "source": [
    "Creating a new class PatientManagement to handle all of the functions that will be displayed in the menu"
   ]
  },
  {
   "cell_type": "code",
   "execution_count": 3,
   "id": "dbee8c1f",
   "metadata": {},
   "outputs": [],
   "source": [
    "class PatientManagement: \n",
    "    # Initializes the object with a file path and loads the patients from the specified file\n",
    "    def __init__(self, file_path):\n",
    "        self.file_path = file_path\n",
    "        self.patients = self.load_patients()\n",
    "\n",
    "    def load_patients(self):\n",
    "          # Initialize and empty list where the patients data will be stored \n",
    "        patients = []                         \n",
    "        with open(self.file_path, 'r') as file:\n",
    "            for line in file:    \n",
    "             # Since the file is in txt this step will remove possible whitespaces and split the data to create the list desired    \n",
    "                data = line.strip().split(', ') \n",
    "                # \"*data\" takes each element and passes them as separate arguments to the Patient constructor    \n",
    "                patient = Patient(*data)\n",
    "                patients.append(patient)\n",
    "        return patients                         \n",
    "\n",
    "    def display_patients(self):      \n",
    "        # Iterates through each patient in the self.patients list and prints their ID, first name, and last name.\n",
    "        for patient in self.patients:\n",
    "            print(patient.patient_id, patient.first_name, patient.last_name)\n",
    "\n",
    "    def add_patient(self, new_patient):\n",
    "        # Adds the new patients to the self.patients list\n",
    "        self.patients.append(new_patient)\n",
    "\n",
    "    def delete_patient(self, patient_id): \n",
    "        # Creates a new list that excludes the specific patient\n",
    "        self.patients = [patient for patient in self.patients if patient.patient_id != patient_id]\n",
    "\n",
    "    def update_patient_info(self, patient_id, contact_details=None, dental_history=None):  \n",
    "        for patient in self.patients:\n",
    "            if patient.patient_id == patient_id: \n",
    "                # The update only happens if the arguments are provided\n",
    "                if contact_details:\n",
    "                    patient.contact_details = contact_details\n",
    "                if dental_history:\n",
    "                    patient.dental_history = dental_history\n",
    "\n",
    "    def save_patients(self):\n",
    "        # Opens the file in write mode\n",
    "        with open(self.file_path, 'w') as file:  \n",
    "            for patient in self.patients:\n",
    "                 # Writes patients' informations into the file\n",
    "                file.write(                           \n",
    "                    str(patient.patient_id) + \", \" +\n",
    "                    str(patient.first_name) + \", \" +\n",
    "                    str(patient.last_name) + \", \" +\n",
    "                    str(patient.contact_details) + \", \" +\n",
    "                    str(patient.dental_history) + \"\\n\"\n",
    "                )\n",
    "                \n",
    "# Initialize PatientManagement instance\n",
    "patient_manager = PatientManagement(patients_file_path)"
   ]
  },
  {
   "cell_type": "markdown",
   "id": "b572f6d5",
   "metadata": {},
   "source": [
    "Creating the menu interface"
   ]
  },
  {
   "cell_type": "code",
   "execution_count": 57,
   "id": "eb3158d9",
   "metadata": {},
   "outputs": [
    {
     "name": "stdout",
     "output_type": "stream",
     "text": [
      "\n",
      "=== Dentist Studio Patient Management ===\n",
      "1. Display Patients\n",
      "2. Add New Patient\n",
      "3. Delete Patient\n",
      "4. Update Patient Info\n",
      "5. Save and Quit\n",
      "Enter your choice (1-5): 5\n",
      "Changes saved. Quitting.\n"
     ]
    }
   ],
   "source": [
    "# While loop makes sure that the menu keeps displaying until the user chooses to quit.\n",
    "while True:                 \n",
    "    print(\"\\n=== Dentist Studio Patient Management ===\")\n",
    "    print(\"1. Display Patients\")\n",
    "    print(\"2. Add New Patient\")\n",
    "    print(\"3. Delete Patient\")\n",
    "    print(\"4. Update Patient Info\")\n",
    "    print(\"5. Save and Quit\")\n",
    "\n",
    "    choice = input(\"Enter your choice (1-5): \")\n",
    "\n",
    "    if choice == '1':\n",
    "        patient_manager.display_patients()\n",
    "    elif choice == '2':                        \n",
    "        # Collects information for a new patient using the Patient constructor\n",
    "        new_patient = Patient(input(\"Enter Patient ID: \"),\n",
    "                              input(\"Enter First Name: \"),\n",
    "                              input(\"Enter Last Name: \"),\n",
    "                              input(\"Enter Contact Details: \"),\n",
    "                              input(\"Enter Dental History: \"))\n",
    "        patient_manager.add_patient(new_patient)\n",
    "    elif choice == '3':\n",
    "        # Takes the patient ID to delete and removes the corresponding patient.\n",
    "        patient_id_to_delete = input(\"Enter Patient ID to delete: \")\n",
    "        patient_manager.delete_patient(patient_id_to_delete)\n",
    "    elif choice == '4':\n",
    "        # Takes the patient ID to update and allows the user to enter new contact details and dental history for the patient.\n",
    "        patient_id_to_update = input(\"Enter Patient ID to update: \")\n",
    "        contact_details = input(\"Enter new Contact Details (press Enter to skip): \")\n",
    "        dental_history = input(\"Enter new Dental History (press Enter to skip): \")\n",
    "        patient_manager.update_patient_info(patient_id_to_update, contact_details, dental_history)\n",
    "    elif choice == '5':\n",
    "        patient_manager.save_patients()\n",
    "        print(\"Changes saved. Quitting.\")\n",
    "        break\n",
    "    else:\n",
    "        print(\"Invalid choice. Please enter a number between 1 and 5.\")"
   ]
  },
  {
   "cell_type": "markdown",
   "id": "f267d541",
   "metadata": {},
   "source": [
    "# Appointment Management"
   ]
  },
  {
   "cell_type": "code",
   "execution_count": null,
   "id": "578e7f68",
   "metadata": {},
   "outputs": [],
   "source": [
    "Create the file appointments_dentist.txt"
   ]
  },
  {
   "cell_type": "code",
   "execution_count": 46,
   "id": "3f6d3ceb",
   "metadata": {},
   "outputs": [
    {
     "name": "stdout",
     "output_type": "stream",
     "text": [
      "File is created\n",
      "101,001,2023-06-15,10:00 AM,Dental cleaning\n",
      "102,002,2023-06-15,02:30 PM,Annual check-up\n",
      "103,003,2023-06-16,11:15 AM,Orthodontic consultation\n",
      "104,004,2023-06-17,09:45 AM,Tooth extraction\n",
      "105,005,2023-06-18,03:20 PM,Cavity filling\n",
      "106,006,2023-06-20,01:00 PM,Wisdom teeth evaluation\n",
      "107,007,2023-06-21,10:30 AM,Teeth Whitening\n",
      "\n"
     ]
    }
   ],
   "source": [
    "# Define appointment data\n",
    "appointments_data = [\n",
    "    \"101,001,2023-06-15,10:00 AM,Dental cleaning\",\n",
    "    \"102,002,2023-06-15,02:30 PM,Annual check-up\",\n",
    "    \"103,003,2023-06-16,11:15 AM,Orthodontic consultation\",\n",
    "    \"104,004,2023-06-17,09:45 AM,Tooth extraction\",\n",
    "    \"105,005,2023-06-18,03:20 PM,Cavity filling\",\n",
    "    \"106,006,2023-06-20,01:00 PM,Wisdom teeth evaluation\",\n",
    "    \"107,007,2023-06-21,10:30 AM,Teeth Whitening\"\n",
    "]\n",
    "\n",
    "\n",
    "# Define file path for appointments\n",
    "appointments_file_path = 'C:\\\\Users\\\\letiz\\\\OneDrive\\\\Desktop\\\\appointments_dentist.txt'\n",
    "\n",
    "# Invoke the functions\n",
    "create_file(appointments_file_path, appointments_data)\n",
    "read_file(appointments_file_path)"
   ]
  },
  {
   "cell_type": "markdown",
   "id": "c3386752",
   "metadata": {},
   "source": [
    "Creating the class Appointment and its methods"
   ]
  },
  {
   "cell_type": "code",
   "execution_count": 7,
   "id": "d8add152",
   "metadata": {},
   "outputs": [],
   "source": [
    "class Appointment:\n",
    "    def __init__(self, appointment_id, patient_id, date, time, treatment_type):\n",
    "        self.appointment_id = appointment_id\n",
    "        self.patient_id = patient_id\n",
    "        self.date = date\n",
    "        self.time = time\n",
    "        self.treatment_type = treatment_type\n",
    "\n",
    "    def reschedule(self, new_date, new_time):\n",
    "        self.date = new_date\n",
    "        self.time = new_time\n",
    "\n",
    "    def cancel(self):  \n",
    "        # Implementation of the method will be added later\n",
    "        pass"
   ]
  },
  {
   "cell_type": "markdown",
   "id": "57149c3c",
   "metadata": {},
   "source": [
    "Creating a new class AppointmentManagement to handle all of the functions that will be displayed in the menu"
   ]
  },
  {
   "cell_type": "code",
   "execution_count": 54,
   "id": "abf39d55",
   "metadata": {},
   "outputs": [],
   "source": [
    "class AppointmentManagement:\n",
    "    def __init__(self, file_path):\n",
    "        self.file_path = file_path\n",
    "        self.appointments = self.load_appointments()\n",
    "\n",
    "    def load_appointments(self):\n",
    "        appointments = []\n",
    "        with open(self.file_path, 'r') as file:\n",
    "            for line in file:\n",
    "                data = line.strip().split(',')\n",
    "                appointment = Appointment(*data)\n",
    "                appointments.append(appointment)\n",
    "        return appointments\n",
    "\n",
    "    def display_appointments(self):\n",
    "        for i, appointment in enumerate(self.appointments, start=101):\n",
    "            print(i, 'Patient: ', appointment.patient_id, appointment.date, appointment.time, appointment.treatment_type)\n",
    "        \n",
    "    def schedule_appointment(self, patient, date, time, treatment_type):\n",
    "        # Prompt user for the appointment ID\n",
    "        appointment_id = input(\"Enter Appointment ID: \")  \n",
    "        new_appointment = patient.schedule_appointment(appointment_id, date, time, treatment_type)\n",
    "        # The new appointment is added to the appointments list\n",
    "        self.appointments.append(new_appointment)\n",
    "        print(\"Appointment scheduled.\")\n",
    "\n",
    "    def reschedule_cancel_appointment(self, appointment_id, new_date=None, new_time=None):\n",
    "        appointment_found = False \n",
    "        for appointment in self.appointments:\n",
    "            if appointment.appointment_id == appointment_id:\n",
    "                appointment_found = True\n",
    "                if new_date and new_time:\n",
    "                    appointment.reschedule(new_date, new_time)\n",
    "                    print(\"Appointment rescheduled:\", appointment.appointment_id, \"to\", new_date, \"-\", new_time)\n",
    "                elif new_date:\n",
    "                    appointment.reschedule(new_date, appointment.time)\n",
    "                    print(\"Appointment rescheduled:\", appointment.appointment_id, \"to\", new_date, \"-\", appointment.time)\n",
    "                elif new_time:\n",
    "                    appointment.reschedule(appointment.date, new_time)\n",
    "                    print(\"Appointment rescheduled:\", appointment.appointment_id, \"to\", appointment.date, \"-\", new_time)\n",
    "                else:\n",
    "                    self.appointments.remove(appointment)\n",
    "                    print(\"Appointment canceled:\", appointment.appointment_id)\n",
    "        \n",
    "        if not appointment_found:\n",
    "            print(\"Appointment ID not found. Please enter a valid appointment ID.\")\n",
    "                    \n",
    "    def save_appointments(self):\n",
    "        # Writes the updated appointments back to the file.\n",
    "        with open(self.file_path, 'w') as file:\n",
    "            for appointment in self.appointments:\n",
    "                file.write(\n",
    "                    str(appointment.appointment_id) + \", \" +\n",
    "                    appointment.patient_id + \", \" +\n",
    "                    appointment.date + \", \" +\n",
    "                    appointment.time + \", \" +\n",
    "                    appointment.treatment_type + \"\\n\"\n",
    "                )\n",
    "\n",
    "# Initialize AppointmentManagement instance\n",
    "appointment_manager = AppointmentManagement(appointments_file_path)"
   ]
  },
  {
   "cell_type": "markdown",
   "id": "8d364bee",
   "metadata": {},
   "source": [
    "Creating the menu interface"
   ]
  },
  {
   "cell_type": "code",
   "execution_count": 58,
   "id": "a05f47e6",
   "metadata": {},
   "outputs": [
    {
     "name": "stdout",
     "output_type": "stream",
     "text": [
      "\n",
      "=== Dentist Studio Appointment Management ===\n",
      "1. Display Appointments\n",
      "2. Schedule New Appointment\n",
      "3. Reschedule or Cancel Appointment\n",
      "4. Save and Quit\n",
      "Enter your choice (1-4): 4\n",
      "Changes saved. Quitting.\n"
     ]
    }
   ],
   "source": [
    "while True:\n",
    "    print(\"\\n=== Dentist Studio Appointment Management ===\")\n",
    "    print(\"1. Display Appointments\")\n",
    "    print(\"2. Schedule New Appointment\")\n",
    "    print(\"3. Reschedule or Cancel Appointment\")\n",
    "    print(\"4. Save and Quit\")\n",
    "\n",
    "    choice = input(\"Enter your choice (1-4): \")\n",
    "\n",
    "    if choice == '1':\n",
    "        appointment_manager.display_appointments()\n",
    "    elif choice == '2':\n",
    "        patient_id = input(\"Enter Patient ID: \")\n",
    "        date = input(\"Enter Date (YYYY-MM-DD): \")\n",
    "        time = input(\"Enter Time: \")\n",
    "        treatment_type = input(\"Enter Type of Treatment: \")\n",
    "\n",
    "        patient = Patient(patient_id, \"\", \"\", \"\", \"\")\n",
    "        appointment_manager.schedule_appointment(patient, date, time, treatment_type)\n",
    "    elif choice == '3':\n",
    "        appointment_id_to_reschedule_cancel = input(\"Enter Appointment ID to reschedule/cancel: \")\n",
    "        new_date = input(\"Enter new date (press Enter to skip): \")\n",
    "        new_time = input(\"Enter new time (press Enter to skip): \")\n",
    "        appointment_manager.reschedule_cancel_appointment(appointment_id_to_reschedule_cancel, new_date, new_time)\n",
    "        print(\"Changes made.\")\n",
    "    elif choice == '4':\n",
    "        appointment_manager.save_appointments()\n",
    "        print(\"Changes saved. Quitting.\")\n",
    "        break\n",
    "    else:\n",
    "        print(\"Invalid choice. Please enter a number between 1 and 4.\")"
   ]
  },
  {
   "cell_type": "markdown",
   "id": "4b1df0fd",
   "metadata": {},
   "source": [
    "# Treatment Processing"
   ]
  },
  {
   "cell_type": "markdown",
   "id": "3fd6fa94",
   "metadata": {},
   "source": [
    "Creating a Dentist class and defining methods "
   ]
  },
  {
   "cell_type": "code",
   "execution_count": 60,
   "id": "27a29a69",
   "metadata": {},
   "outputs": [
    {
     "name": "stdout",
     "output_type": "stream",
     "text": [
      "001, Alessandro, Rossi, 555-9876, No known allergies\n",
      "002, Emily, Bianchi, 555-4321, Allergic to penicillin\n",
      "003, Marco, Moretti, 555-8765, Sensitive to cold beverages\n",
      "004, Olivia, Romano, 555-2109, History of orthodontic treatment\n",
      "005, Giovanni, Conti, 555-6543, No known allergies\n",
      "006, Sophia, De Luca, 555-1098, Afraid of clowns\n",
      "007, Matteo, Esposito, 555-3456, Allergic to latex, Check-up\n",
      "008, Anna, Poli, 555-8789, Allergic to flouride\n",
      "\n",
      "101,    001,    2023-06-15,    10:00 AM,    Dental cleaning\n",
      "102,    002,    2023-06-15,    02:30 PM,    Annual check-up\n",
      "103,    003,    2023-06-16,    11:15 AM,    Orthodontic consultation\n",
      "104,    004,    2023-06-17,    09:45 AM,    Tooth extraction\n",
      "105,    005,    2023-06-18,    03:20 PM,    Cavity filling\n",
      "106,    006,    2023-06-20,    01:00 PM,    Wisdom teeth evaluation\n",
      "107,    007,    2023-06-21,    10:30 AM,    Teeth Whitening\n",
      "\n",
      "Treatment recorded: Check-up\n",
      "Appointment ID not found. Please enter a valid appointment ID.\n"
     ]
    }
   ],
   "source": [
    "# Reading both patients and appointments\n",
    "read_file(patients_file_path)\n",
    "read_file(appointments_file_path)\n",
    "\n",
    "class Dentist:\n",
    "    def __init__(self, patients_file_path, appointments_file_path):\n",
    "        # Initializes instances of PatientManagement and AppointmentManagement\n",
    "        self.patient_manager = PatientManagement(patients_file_path)\n",
    "        self.appointment_manager = AppointmentManagement(appointments_file_path)\n",
    "\n",
    "    def record_treatment(self, patient_id, new_treatment):\n",
    "        for patient in self.patient_manager.patients:\n",
    "            if patient.patient_id == patient_id:\n",
    "                # Calls the record_treatment method of the patient and then saves the updated patient data\n",
    "                patient.record_treatment(new_treatment)\n",
    "                self.patient_manager.save_patients()\n",
    "                return\n",
    "        else:\n",
    "            print(\"Patient with ID\", patient_id, \"not found.\")\n",
    "   \n",
    "    def delete_appointment(self, appointment_id):\n",
    "        # Deletes an appointment by calling the reschedule_cancel_appointment method\n",
    "        self.appointment_manager.reschedule_cancel_appointment(appointment_id)\n",
    "        self.appointment_manager.save_appointments()\n",
    "        \n",
    "# Initialize Dentist instance\n",
    "dentist = Dentist(patients_file_path, appointments_file_path)\n",
    "\n",
    "# Simulate recording a treatment for a patient\n",
    "dentist.record_treatment(\"007\", \"Check-up\")\n",
    "# Simulate cancellation of a treatment\n",
    "dentist.delete_appointment('108')"
   ]
  },
  {
   "cell_type": "code",
   "execution_count": null,
   "id": "7beceb29",
   "metadata": {},
   "outputs": [],
   "source": []
  }
 ],
 "metadata": {
  "kernelspec": {
   "display_name": "Python 3 (ipykernel)",
   "language": "python",
   "name": "python3"
  },
  "language_info": {
   "codemirror_mode": {
    "name": "ipython",
    "version": 3
   },
   "file_extension": ".py",
   "mimetype": "text/x-python",
   "name": "python",
   "nbconvert_exporter": "python",
   "pygments_lexer": "ipython3",
   "version": "3.11.5"
  }
 },
 "nbformat": 4,
 "nbformat_minor": 5
}
